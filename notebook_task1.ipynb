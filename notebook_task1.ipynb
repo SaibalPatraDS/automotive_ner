{
 "cells": [
  {
   "cell_type": "markdown",
   "id": "23191e0b-cee0-4d1b-8c16-a9975f3fea6e",
   "metadata": {},
   "source": [
    "# Automotive NER Assignment\n",
    "-------------------------------------------"
   ]
  },
  {
   "cell_type": "code",
   "execution_count": null,
   "id": "cc4393d7-a30a-4874-b818-dd98bb9aad31",
   "metadata": {},
   "outputs": [],
   "source": []
  },
  {
   "cell_type": "markdown",
   "id": "9a50d4c0-fed9-46b5-bb79-2f929bb37b9f",
   "metadata": {},
   "source": [
    "First task involves analyzing the data and identifying what are some entities that can be \n",
    "extracted from this data. We are interested in entities related to automotive domain. Some \n",
    "examples could be component, failure issue, vehicle model, corrective action etc. You may \n",
    "choose what all and how many entities you are planning to extract."
   ]
  },
  {
   "cell_type": "code",
   "execution_count": null,
   "id": "db9fef38-ac97-41a6-9ac1-e0beb378db81",
   "metadata": {},
   "outputs": [],
   "source": []
  },
  {
   "cell_type": "markdown",
   "id": "96376fc5-6649-4819-b964-aac082944ea0",
   "metadata": {},
   "source": [
    "## Reading and Creating the Data\n",
    "----------------------------------"
   ]
  },
  {
   "cell_type": "code",
   "execution_count": 1,
   "id": "c1a7db4f-38ed-425f-bcae-cd5eca8c3e4a",
   "metadata": {},
   "outputs": [],
   "source": [
    "## importing libraries\n",
    "\n",
    "import pandas as pd\n",
    "import numpy as np\n",
    "import matplotlib.pyplot as plt\n",
    "import seaborn as sns\n",
    "\n",
    "import csv ## to create a csv file out of the data"
   ]
  },
  {
   "cell_type": "code",
   "execution_count": 10,
   "id": "62659094-ff95-4619-882d-5ceed71db5f4",
   "metadata": {},
   "outputs": [],
   "source": [
    "pd.set_option(\"display.max_rows\", 100)"
   ]
  },
  {
   "cell_type": "code",
   "execution_count": 8,
   "id": "9842eedd-ac0d-4680-bf7b-01115ceecf0f",
   "metadata": {},
   "outputs": [],
   "source": [
    "## reading the data\n",
    "\n",
    "cols = [1, 7, 8, 11, 20, 21, 22, 23]  ## columns number to extract\n",
    "\n",
    "with open(\"FLAT_RCL/FLAT_RCL.txt\", \"r\") as file:\n",
    "    ## creating the csv reader\n",
    "    reader = csv.reader(file, delimiter = '\\t')\n",
    "    ## skip the header row\n",
    "    # next(reader)\n",
    "\n",
    "\n",
    "    ## writing the read data to a csv file\n",
    "    with open(\"FLAT_RCL/FLAT_RCL.csv\", \"w\", newline='') as c_file:\n",
    "        ## creating the csv writer\n",
    "        writer = csv.writer(c_file)\n",
    "        ## info about the header\n",
    "        writer.writerow([\"RECORD_ID\", \"COMPNAME\" , \"MFGNAME\", \"RCLTYPECD\", \n",
    "                         \"DESC_DEFECT\", \"CONEQUENCE_DEFECT\", \"CORRECTIVE_ACTION\", \"NOTES\"])\n",
    "\n",
    "        ## iterate through rows and write in the file\n",
    "        for row in reader:\n",
    "            info = [row[i-1] for i in cols]\n",
    "            ## writing into the file\n",
    "            writer.writerow(info)"
   ]
  },
  {
   "cell_type": "code",
   "execution_count": null,
   "id": "8b9dd2c4-68c0-4932-b973-fd62fd1cb5bf",
   "metadata": {},
   "outputs": [],
   "source": []
  },
  {
   "cell_type": "code",
   "execution_count": 2,
   "id": "b43e63e4-9773-48a0-b9a2-63baa50c65e7",
   "metadata": {},
   "outputs": [
    {
     "data": {
      "text/html": [
       "<div>\n",
       "<style scoped>\n",
       "    .dataframe tbody tr th:only-of-type {\n",
       "        vertical-align: middle;\n",
       "    }\n",
       "\n",
       "    .dataframe tbody tr th {\n",
       "        vertical-align: top;\n",
       "    }\n",
       "\n",
       "    .dataframe thead th {\n",
       "        text-align: right;\n",
       "    }\n",
       "</style>\n",
       "<table border=\"1\" class=\"dataframe\">\n",
       "  <thead>\n",
       "    <tr style=\"text-align: right;\">\n",
       "      <th></th>\n",
       "      <th>COMPNAME</th>\n",
       "      <th>MFGNAME</th>\n",
       "      <th>RCLTYPECD</th>\n",
       "      <th>DESC_DEFECT</th>\n",
       "      <th>CONEQUENCE_DEFECT</th>\n",
       "      <th>CORRECTIVE_ACTION</th>\n",
       "      <th>NOTES</th>\n",
       "    </tr>\n",
       "    <tr>\n",
       "      <th>RECORD_ID</th>\n",
       "      <th></th>\n",
       "      <th></th>\n",
       "      <th></th>\n",
       "      <th></th>\n",
       "      <th></th>\n",
       "      <th></th>\n",
       "      <th></th>\n",
       "    </tr>\n",
       "  </thead>\n",
       "  <tbody>\n",
       "    <tr>\n",
       "      <th>1</th>\n",
       "      <td>ELECTRICAL SYSTEM:12V/24V/48V BATTERY:CABLES</td>\n",
       "      <td>FORD MOTOR COMPANY</td>\n",
       "      <td>V</td>\n",
       "      <td>CERTAIN PASSENGER VEHICLES EQUIPPED WITH ZETEC...</td>\n",
       "      <td>THIS, IN TURN, COULD CAUSE THE BATTERY CABLES ...</td>\n",
       "      <td>DEALERS WILL INSPECT THE BATTERY CABLES FOR TH...</td>\n",
       "      <td>ALSO CONTACT THE NATIONAL HIGHWAY TRAFFIC SAFE...</td>\n",
       "    </tr>\n",
       "    <tr>\n",
       "      <th>2</th>\n",
       "      <td>ELECTRICAL SYSTEM:12V/24V/48V BATTERY:CABLES</td>\n",
       "      <td>FORD MOTOR COMPANY</td>\n",
       "      <td>V</td>\n",
       "      <td>CERTAIN PASSENGER VEHICLES EQUIPPED WITH ZETEC...</td>\n",
       "      <td>THIS, IN TURN, COULD CAUSE THE BATTERY CABLES ...</td>\n",
       "      <td>DEALERS WILL INSPECT THE BATTERY CABLES FOR TH...</td>\n",
       "      <td>ALSO CONTACT THE NATIONAL HIGHWAY TRAFFIC SAFE...</td>\n",
       "    </tr>\n",
       "    <tr>\n",
       "      <th>3</th>\n",
       "      <td>EQUIPMENT:OTHER:LABELS</td>\n",
       "      <td>JAYCO, INC.</td>\n",
       "      <td>V</td>\n",
       "      <td>ON CERTAIN FOLDING TENT CAMPERS, THE FEDERAL C...</td>\n",
       "      <td>IF THE TIRES WERE INFLATED TO 80 PSI, THEY COU...</td>\n",
       "      <td>OWNERS WILL BE MAILED CORRECT LABELS FOR INSTA...</td>\n",
       "      <td>ALSO, CUSTOMERS CAN CONTACT THE NATIONAL HIGHW...</td>\n",
       "    </tr>\n",
       "    <tr>\n",
       "      <th>4</th>\n",
       "      <td>STRUCTURE</td>\n",
       "      <td>MONACO COACH CORP.</td>\n",
       "      <td>V</td>\n",
       "      <td>ON CERTAIN CLASS A MOTOR HOMES, THE FLOOR TRUS...</td>\n",
       "      <td>CONDITIONS CAN RESULT IN THE BOTTOMING OUT THE...</td>\n",
       "      <td>DEALERS WILL INSPECT THE FLOOR TRUSS NETWORK S...</td>\n",
       "      <td>CUSTOMERS CAN ALSO CONTACT THE NATIONAL HIGHWA...</td>\n",
       "    </tr>\n",
       "    <tr>\n",
       "      <th>5</th>\n",
       "      <td>STRUCTURE</td>\n",
       "      <td>MONACO COACH CORP.</td>\n",
       "      <td>V</td>\n",
       "      <td>ON CERTAIN CLASS A MOTOR HOMES, THE FLOOR TRUS...</td>\n",
       "      <td>CONDITIONS CAN RESULT IN THE BOTTOMING OUT THE...</td>\n",
       "      <td>DEALERS WILL INSPECT THE FLOOR TRUSS NETWORK S...</td>\n",
       "      <td>CUSTOMERS CAN ALSO CONTACT THE NATIONAL HIGHWA...</td>\n",
       "    </tr>\n",
       "  </tbody>\n",
       "</table>\n",
       "</div>"
      ],
      "text/plain": [
       "                                               COMPNAME             MFGNAME  \\\n",
       "RECORD_ID                                                                     \n",
       "1          ELECTRICAL SYSTEM:12V/24V/48V BATTERY:CABLES  FORD MOTOR COMPANY   \n",
       "2          ELECTRICAL SYSTEM:12V/24V/48V BATTERY:CABLES  FORD MOTOR COMPANY   \n",
       "3                                EQUIPMENT:OTHER:LABELS         JAYCO, INC.   \n",
       "4                                             STRUCTURE  MONACO COACH CORP.   \n",
       "5                                             STRUCTURE  MONACO COACH CORP.   \n",
       "\n",
       "          RCLTYPECD                                        DESC_DEFECT  \\\n",
       "RECORD_ID                                                                \n",
       "1                 V  CERTAIN PASSENGER VEHICLES EQUIPPED WITH ZETEC...   \n",
       "2                 V  CERTAIN PASSENGER VEHICLES EQUIPPED WITH ZETEC...   \n",
       "3                 V  ON CERTAIN FOLDING TENT CAMPERS, THE FEDERAL C...   \n",
       "4                 V  ON CERTAIN CLASS A MOTOR HOMES, THE FLOOR TRUS...   \n",
       "5                 V  ON CERTAIN CLASS A MOTOR HOMES, THE FLOOR TRUS...   \n",
       "\n",
       "                                           CONEQUENCE_DEFECT  \\\n",
       "RECORD_ID                                                      \n",
       "1          THIS, IN TURN, COULD CAUSE THE BATTERY CABLES ...   \n",
       "2          THIS, IN TURN, COULD CAUSE THE BATTERY CABLES ...   \n",
       "3          IF THE TIRES WERE INFLATED TO 80 PSI, THEY COU...   \n",
       "4          CONDITIONS CAN RESULT IN THE BOTTOMING OUT THE...   \n",
       "5          CONDITIONS CAN RESULT IN THE BOTTOMING OUT THE...   \n",
       "\n",
       "                                           CORRECTIVE_ACTION  \\\n",
       "RECORD_ID                                                      \n",
       "1          DEALERS WILL INSPECT THE BATTERY CABLES FOR TH...   \n",
       "2          DEALERS WILL INSPECT THE BATTERY CABLES FOR TH...   \n",
       "3          OWNERS WILL BE MAILED CORRECT LABELS FOR INSTA...   \n",
       "4          DEALERS WILL INSPECT THE FLOOR TRUSS NETWORK S...   \n",
       "5          DEALERS WILL INSPECT THE FLOOR TRUSS NETWORK S...   \n",
       "\n",
       "                                                       NOTES  \n",
       "RECORD_ID                                                     \n",
       "1          ALSO CONTACT THE NATIONAL HIGHWAY TRAFFIC SAFE...  \n",
       "2          ALSO CONTACT THE NATIONAL HIGHWAY TRAFFIC SAFE...  \n",
       "3          ALSO, CUSTOMERS CAN CONTACT THE NATIONAL HIGHW...  \n",
       "4          CUSTOMERS CAN ALSO CONTACT THE NATIONAL HIGHWA...  \n",
       "5          CUSTOMERS CAN ALSO CONTACT THE NATIONAL HIGHWA...  "
      ]
     },
     "execution_count": 2,
     "metadata": {},
     "output_type": "execute_result"
    }
   ],
   "source": [
    "## reading the csv file and performing remaining tasks\n",
    "\n",
    "data = pd.read_csv(\"FLAT_RCL/FLAT_RCL.csv\", index_col = \"RECORD_ID\")\n",
    "data.head()"
   ]
  },
  {
   "cell_type": "code",
   "execution_count": 2,
   "id": "031cd2fa-7de0-4a3c-8498-7fa66615d9a9",
   "metadata": {},
   "outputs": [],
   "source": [
    "## about the data\n",
    "\n",
    "data['COMPNAME'].value_counts().reset_index().sort_values(by = 'count', ascending = False)"
   ]
  },
  {
   "cell_type": "code",
   "execution_count": 3,
   "id": "cb6a52bf-31f6-460e-be2c-09b49affe608",
   "metadata": {},
   "outputs": [
    {
     "data": {
      "text/html": [
       "<div>\n",
       "<style scoped>\n",
       "    .dataframe tbody tr th:only-of-type {\n",
       "        vertical-align: middle;\n",
       "    }\n",
       "\n",
       "    .dataframe tbody tr th {\n",
       "        vertical-align: top;\n",
       "    }\n",
       "\n",
       "    .dataframe thead th {\n",
       "        text-align: right;\n",
       "    }\n",
       "</style>\n",
       "<table border=\"1\" class=\"dataframe\">\n",
       "  <thead>\n",
       "    <tr style=\"text-align: right;\">\n",
       "      <th></th>\n",
       "      <th>COMPNAME</th>\n",
       "      <th>MFGNAME</th>\n",
       "      <th>RCLTYPECD</th>\n",
       "      <th>DESC_DEFECT</th>\n",
       "      <th>CONEQUENCE_DEFECT</th>\n",
       "      <th>CORRECTIVE_ACTION</th>\n",
       "      <th>NOTES</th>\n",
       "    </tr>\n",
       "    <tr>\n",
       "      <th>RECORD_ID</th>\n",
       "      <th></th>\n",
       "      <th></th>\n",
       "      <th></th>\n",
       "      <th></th>\n",
       "      <th></th>\n",
       "      <th></th>\n",
       "      <th></th>\n",
       "    </tr>\n",
       "  </thead>\n",
       "  <tbody>\n",
       "    <tr>\n",
       "      <th>1</th>\n",
       "      <td>ELECTRICAL SYSTEM:12V/24V/48V BATTERY:CABLES</td>\n",
       "      <td>FORD MOTOR COMPANY</td>\n",
       "      <td>V</td>\n",
       "      <td>CERTAIN PASSENGER VEHICLES EQUIPPED WITH ZETEC...</td>\n",
       "      <td>THIS, IN TURN, COULD CAUSE THE BATTERY CABLES ...</td>\n",
       "      <td>DEALERS WILL INSPECT THE BATTERY CABLES FOR TH...</td>\n",
       "      <td>ALSO CONTACT THE NATIONAL HIGHWAY TRAFFIC SAFE...</td>\n",
       "    </tr>\n",
       "  </tbody>\n",
       "</table>\n",
       "</div>"
      ],
      "text/plain": [
       "                                               COMPNAME             MFGNAME  \\\n",
       "RECORD_ID                                                                     \n",
       "1          ELECTRICAL SYSTEM:12V/24V/48V BATTERY:CABLES  FORD MOTOR COMPANY   \n",
       "\n",
       "          RCLTYPECD                                        DESC_DEFECT  \\\n",
       "RECORD_ID                                                                \n",
       "1                 V  CERTAIN PASSENGER VEHICLES EQUIPPED WITH ZETEC...   \n",
       "\n",
       "                                           CONEQUENCE_DEFECT  \\\n",
       "RECORD_ID                                                      \n",
       "1          THIS, IN TURN, COULD CAUSE THE BATTERY CABLES ...   \n",
       "\n",
       "                                           CORRECTIVE_ACTION  \\\n",
       "RECORD_ID                                                      \n",
       "1          DEALERS WILL INSPECT THE BATTERY CABLES FOR TH...   \n",
       "\n",
       "                                                       NOTES  \n",
       "RECORD_ID                                                     \n",
       "1          ALSO CONTACT THE NATIONAL HIGHWAY TRAFFIC SAFE...  "
      ]
     },
     "execution_count": 3,
     "metadata": {},
     "output_type": "execute_result"
    }
   ],
   "source": [
    "data.loc[:1]"
   ]
  },
  {
   "cell_type": "markdown",
   "id": "9482ce6f-fc1c-4b3b-a049-46e8dafe3705",
   "metadata": {},
   "source": [
    "CERTAIN PASSENGER VEHICLES EQUIPPED WITH ZETEC ENGINES, LOOSE OR BROKEN ATTACHMENTS AND MISROUTED BATTERY CABLES COULD LEAD TO CABLE INSULATION DAMAGE."
   ]
  },
  {
   "cell_type": "code",
   "execution_count": 4,
   "id": "5661cfe3-6441-4f52-b59a-fd756ae35c3f",
   "metadata": {},
   "outputs": [
    {
     "data": {
      "text/plain": [
       "(255657, 7)"
      ]
     },
     "execution_count": 4,
     "metadata": {},
     "output_type": "execute_result"
    }
   ],
   "source": [
    "data.shape"
   ]
  },
  {
   "cell_type": "code",
   "execution_count": null,
   "id": "edf0053a-a230-400d-a33e-b011aeec4f8a",
   "metadata": {},
   "outputs": [],
   "source": []
  },
  {
   "cell_type": "code",
   "execution_count": null,
   "id": "7d4f5a94-b114-467e-ba8d-05ae8a907821",
   "metadata": {},
   "outputs": [],
   "source": []
  },
  {
   "cell_type": "code",
   "execution_count": null,
   "id": "70322e19-3def-4c38-b48a-a44deb9b6305",
   "metadata": {},
   "outputs": [],
   "source": []
  },
  {
   "cell_type": "code",
   "execution_count": null,
   "id": "bacebcf1-9273-43ec-a23b-8d4c0366501e",
   "metadata": {},
   "outputs": [],
   "source": []
  },
  {
   "cell_type": "code",
   "execution_count": null,
   "id": "a57d18de-4a4b-454b-a31b-0d842e8878b1",
   "metadata": {},
   "outputs": [],
   "source": []
  },
  {
   "cell_type": "code",
   "execution_count": null,
   "id": "3f61e271-bc3f-42c1-bf82-790941fbad3f",
   "metadata": {},
   "outputs": [],
   "source": []
  },
  {
   "cell_type": "code",
   "execution_count": null,
   "id": "3c39cbe0-91a5-4c6c-b670-b41486dea9a6",
   "metadata": {},
   "outputs": [],
   "source": []
  },
  {
   "cell_type": "code",
   "execution_count": null,
   "id": "140841f6-cb20-457f-9159-d37e9784244e",
   "metadata": {},
   "outputs": [],
   "source": []
  },
  {
   "cell_type": "code",
   "execution_count": null,
   "id": "f59222ea-825e-4c27-a6d4-eb2fd89d7f8f",
   "metadata": {},
   "outputs": [],
   "source": []
  },
  {
   "cell_type": "code",
   "execution_count": null,
   "id": "175a607c-8e0f-4783-bd9a-307b75829365",
   "metadata": {},
   "outputs": [],
   "source": []
  },
  {
   "cell_type": "code",
   "execution_count": null,
   "id": "48e02498-c865-4528-9b51-3e2879371cd4",
   "metadata": {},
   "outputs": [],
   "source": []
  },
  {
   "cell_type": "code",
   "execution_count": null,
   "id": "9ca0758c-3944-432e-8ccb-071639d6c738",
   "metadata": {},
   "outputs": [],
   "source": []
  },
  {
   "cell_type": "code",
   "execution_count": null,
   "id": "7eb6d166-898e-48a2-bc79-f25fe62193e6",
   "metadata": {},
   "outputs": [],
   "source": []
  },
  {
   "cell_type": "code",
   "execution_count": null,
   "id": "aebf9c51-9d6f-4597-8ca2-cfdfa1d96efd",
   "metadata": {},
   "outputs": [],
   "source": []
  },
  {
   "cell_type": "code",
   "execution_count": null,
   "id": "80b439e2-d5c4-420a-ab88-4bf98ab01b63",
   "metadata": {},
   "outputs": [],
   "source": []
  },
  {
   "cell_type": "code",
   "execution_count": null,
   "id": "63003954-6d95-4687-836d-e46c20014509",
   "metadata": {},
   "outputs": [],
   "source": []
  },
  {
   "cell_type": "code",
   "execution_count": null,
   "id": "6b88109d-68e5-41c1-8dd3-b672f870bf0c",
   "metadata": {},
   "outputs": [],
   "source": []
  },
  {
   "cell_type": "code",
   "execution_count": null,
   "id": "e6e2a718-a42b-43b0-a10e-984a0d7c24b8",
   "metadata": {},
   "outputs": [],
   "source": []
  },
  {
   "cell_type": "code",
   "execution_count": null,
   "id": "d7b74c59-1a0c-49e7-a4ce-d9b5dafb9edb",
   "metadata": {},
   "outputs": [],
   "source": []
  },
  {
   "cell_type": "code",
   "execution_count": null,
   "id": "7197e8d7-770a-488d-bb52-a5183b830ea8",
   "metadata": {},
   "outputs": [],
   "source": []
  },
  {
   "cell_type": "code",
   "execution_count": null,
   "id": "8e766fd6-44dc-43c2-bbd5-f2ba57f7890a",
   "metadata": {},
   "outputs": [],
   "source": []
  },
  {
   "cell_type": "code",
   "execution_count": null,
   "id": "9be054ff-7312-49cd-ab24-2fa0a65133c9",
   "metadata": {},
   "outputs": [],
   "source": []
  },
  {
   "cell_type": "code",
   "execution_count": null,
   "id": "751b57f0-469c-4b5b-ae75-51720e07a445",
   "metadata": {},
   "outputs": [],
   "source": []
  },
  {
   "cell_type": "code",
   "execution_count": null,
   "id": "55396d88-55e4-48a2-a181-d2cadf5cabfa",
   "metadata": {},
   "outputs": [],
   "source": []
  },
  {
   "cell_type": "code",
   "execution_count": null,
   "id": "dd3cb4b3-1e01-484b-b8d7-8792b1185277",
   "metadata": {},
   "outputs": [],
   "source": []
  },
  {
   "cell_type": "code",
   "execution_count": null,
   "id": "5f9f005a-66b9-42cd-9036-17943d331cb5",
   "metadata": {},
   "outputs": [],
   "source": []
  },
  {
   "cell_type": "code",
   "execution_count": 16,
   "id": "35d3c4bf-cbed-4cbb-8614-138872715502",
   "metadata": {},
   "outputs": [
    {
     "name": "stderr",
     "output_type": "stream",
     "text": [
      "All PyTorch model weights were used when initializing TFBertForTokenClassification.\n",
      "\n",
      "All the weights of TFBertForTokenClassification were initialized from the PyTorch model.\n",
      "If your task is similar to the task the model of the checkpoint was trained on, you can already use TFBertForTokenClassification for predictions without further training.\n"
     ]
    },
    {
     "name": "stdout",
     "output_type": "stream",
     "text": [
      "[]\n"
     ]
    }
   ],
   "source": [
    "from transformers import pipeline\n",
    "\n",
    "# Load NER pipeline\n",
    "ner_pipeline = pipeline(\"ner\", model=\"dbmdz/bert-large-cased-finetuned-conll03-english\")\n",
    "\n",
    "# Input text\n",
    "text = \"conditions can result in the bottoming out the suspension and amplification of the stress placed on the floor truss network. the additional stress can result in the fracture of welds securing the floor truss network system to the chassis frame rail and/or fracture of the floor truss network support system. the possibility exists that there could be damage to electrical wiring and/or fuel lines which could potentially lead to a fire.\"\n",
    "\n",
    "# Perform NER\n",
    "entities = ner_pipeline(text)\n",
    "\n",
    "# Post-processing and labeling\n",
    "labeled_entities = []\n",
    "for entity in entities:\n",
    "    labeled_entity = {\n",
    "        \"Entity\": entity[\"word\"],\n",
    "        \"Label\": \"Failure Issue\" if \"failure\" in entity[\"entity_group\"] else \"Component\"\n",
    "    }\n",
    "    labeled_entities.append(labeled_entity)\n",
    "\n",
    "# Print labeled entities\n",
    "print(labeled_entities)\n"
   ]
  },
  {
   "cell_type": "code",
   "execution_count": null,
   "id": "4461844e-01c3-4ea5-a5d6-c9489c14a123",
   "metadata": {},
   "outputs": [],
   "source": []
  },
  {
   "cell_type": "code",
   "execution_count": null,
   "id": "21079ac4-f0d8-45d9-b16a-d1586ad79a77",
   "metadata": {},
   "outputs": [],
   "source": []
  },
  {
   "cell_type": "code",
   "execution_count": null,
   "id": "ecd1c062-60af-4c47-8c5a-c44258abd0db",
   "metadata": {},
   "outputs": [],
   "source": []
  },
  {
   "cell_type": "code",
   "execution_count": null,
   "id": "a9752a7a-5324-4621-af8a-db4b50858f02",
   "metadata": {},
   "outputs": [],
   "source": []
  },
  {
   "cell_type": "code",
   "execution_count": null,
   "id": "77bcf08f-175e-4ed0-ad02-bb42f9fcfef0",
   "metadata": {},
   "outputs": [],
   "source": []
  },
  {
   "cell_type": "code",
   "execution_count": null,
   "id": "c2d40242-5c19-429d-adf4-891898f73e4e",
   "metadata": {},
   "outputs": [],
   "source": []
  },
  {
   "cell_type": "code",
   "execution_count": null,
   "id": "09a5da7a-0224-4a4b-a8d1-f40f3570365e",
   "metadata": {},
   "outputs": [],
   "source": []
  },
  {
   "cell_type": "code",
   "execution_count": null,
   "id": "d3bcc2d7-7ac9-4487-b364-c8ad8c22c3c1",
   "metadata": {},
   "outputs": [],
   "source": []
  },
  {
   "cell_type": "code",
   "execution_count": null,
   "id": "9ed31f3a-542c-4a01-83aa-989d4cd4bc4c",
   "metadata": {},
   "outputs": [],
   "source": []
  },
  {
   "cell_type": "code",
   "execution_count": null,
   "id": "0cb1e274-56fe-401f-9648-350f49b5aa7e",
   "metadata": {},
   "outputs": [],
   "source": []
  },
  {
   "cell_type": "code",
   "execution_count": null,
   "id": "aa20860e-1cb9-4e69-97f9-0b3be60ae92d",
   "metadata": {},
   "outputs": [],
   "source": []
  },
  {
   "cell_type": "code",
   "execution_count": null,
   "id": "17ff4868-25dc-4f08-b1d2-326c94f4a8f6",
   "metadata": {},
   "outputs": [],
   "source": []
  },
  {
   "cell_type": "code",
   "execution_count": null,
   "id": "3cf29d29-b18a-4acd-b362-927f3531f4bc",
   "metadata": {},
   "outputs": [],
   "source": []
  },
  {
   "cell_type": "code",
   "execution_count": null,
   "id": "f372ec03-6023-4685-a99f-bde557c2e665",
   "metadata": {},
   "outputs": [],
   "source": []
  },
  {
   "cell_type": "code",
   "execution_count": null,
   "id": "65fdc976-8ba2-42c8-8ae9-1a6922bc7073",
   "metadata": {},
   "outputs": [],
   "source": []
  },
  {
   "cell_type": "code",
   "execution_count": null,
   "id": "ddd36475-321c-406f-a1b0-f15d0651687e",
   "metadata": {},
   "outputs": [],
   "source": []
  },
  {
   "cell_type": "code",
   "execution_count": null,
   "id": "565b43cc-7954-4ded-8a3f-ac0912c43fdd",
   "metadata": {},
   "outputs": [],
   "source": []
  }
 ],
 "metadata": {
  "kernelspec": {
   "display_name": "Python 3 (ipykernel)",
   "language": "python",
   "name": "python3"
  },
  "language_info": {
   "codemirror_mode": {
    "name": "ipython",
    "version": 3
   },
   "file_extension": ".py",
   "mimetype": "text/x-python",
   "name": "python",
   "nbconvert_exporter": "python",
   "pygments_lexer": "ipython3",
   "version": "3.11.7"
  }
 },
 "nbformat": 4,
 "nbformat_minor": 5
}
